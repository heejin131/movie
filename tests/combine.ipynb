{
 "cells": [
  {
   "cell_type": "code",
   "execution_count": 3,
   "id": "f9309311-aef5-4b3c-a969-7de20fd1e450",
   "metadata": {},
   "outputs": [
    {
     "name": "stdout",
     "output_type": "stream",
     "text": [
      "  movieCd multiMovieYn repNationCd\n",
      "0    1001            Y           K\n",
      "1    1002            Y           F\n",
      "2    1003            N        None\n"
     ]
    }
   ],
   "source": [
    "import pandas as pd\n",
    "import numpy as np\n",
    "A = pd.DataFrame({\n",
    "    \"movieCd\": [\"1001\", \"1002\", \"1003\"],\n",
    "    \"multiMovieYn\": [\"Y\", \"Y\", \"N\"],\n",
    "    \"repNationCd\": [\"K\", \"F\", None]\n",
    "})\n",
    "\n",
    "print(A)"
   ]
  },
  {
   "cell_type": "code",
   "execution_count": 4,
   "id": "f0e5def0-a1e1-4705-bc27-588fb54876aa",
   "metadata": {},
   "outputs": [
    {
     "name": "stdout",
     "output_type": "stream",
     "text": [
      "  movieCd multiMovieYn repNationCd\n",
      "0    1001         None        None\n",
      "1    1003            Y           F\n",
      "2    1004            Y           K\n"
     ]
    }
   ],
   "source": [
    "B = pd.DataFrame({\n",
    "    \"movieCd\": [\"1001\", \"1003\", \"1004\"],\n",
    "    \"multiMovieYn\": [None, \"Y\", \"Y\"],\n",
    "    \"repNationCd\": [None, \"F\", \"K\"]\n",
    "})\n",
    "\n",
    "print(B)"
   ]
  },
  {
   "cell_type": "code",
   "execution_count": 5,
   "id": "8a97b8b5-a954-4709-a57b-873ba51819fd",
   "metadata": {},
   "outputs": [],
   "source": [
    "AA = A.set_index(\"movieCd\")\n",
    "BB = B.set_index(\"movieCd\")"
   ]
  },
  {
   "cell_type": "code",
   "execution_count": 10,
   "id": "390a6fa1-16b1-492e-8b98-373f2d096583",
   "metadata": {},
   "outputs": [],
   "source": [
    "r_df = AA.combine_first(BB)"
   ]
  },
  {
   "cell_type": "code",
   "execution_count": 11,
   "id": "38ca6890-7179-4b78-87c3-e53e74035150",
   "metadata": {},
   "outputs": [
    {
     "name": "stdout",
     "output_type": "stream",
     "text": [
      "        multiMovieYn repNationCd\n",
      "movieCd                         \n",
      "1001               Y           K\n",
      "1002               Y           F\n",
      "1003               N           F\n",
      "1004               Y           K\n"
     ]
    }
   ],
   "source": [
    "print(r_df)\n",
    "# movieCd multiMovieYn repNationCd\n",
    "# 0    1001            Y           K\n",
    "# 1    1002            Y           F\n",
    "# 2    1003            N           F\n",
    "# 3    1004            Y           K"
   ]
  },
  {
   "cell_type": "markdown",
   "id": "374976df-317f-4f8f-b9a0-460baa886825",
   "metadata": {},
   "source": [
    "## merge"
   ]
  },
  {
   "cell_type": "code",
   "execution_count": 21,
   "id": "7cd9a48f-397e-4442-b51c-6b8ea8271fc8",
   "metadata": {},
   "outputs": [],
   "source": [
    "merged_df = A.merge(B, on=\"movieCd\", how=\"outer\", suffixes=(\"_A\", \"_B\"))\n",
    "merged_df[\"multiMovieYn\"] = merged_df[\"multiMovieYn_A\"].combine_first(merged_df[\"multiMovieYn_B\"])\n",
    "merged_df[\"repNationCd\"] = merged_df[\"repNationCd_A\"].combine_first(merged_df[\"repNationCd_B\"])"
   ]
  },
  {
   "cell_type": "code",
   "execution_count": 22,
   "id": "658203c2-e493-4682-b060-6bea6b188b5a",
   "metadata": {},
   "outputs": [
    {
     "data": {
      "text/html": [
       "<div>\n",
       "<style scoped>\n",
       "    .dataframe tbody tr th:only-of-type {\n",
       "        vertical-align: middle;\n",
       "    }\n",
       "\n",
       "    .dataframe tbody tr th {\n",
       "        vertical-align: top;\n",
       "    }\n",
       "\n",
       "    .dataframe thead th {\n",
       "        text-align: right;\n",
       "    }\n",
       "</style>\n",
       "<table border=\"1\" class=\"dataframe\">\n",
       "  <thead>\n",
       "    <tr style=\"text-align: right;\">\n",
       "      <th></th>\n",
       "      <th>movieCd</th>\n",
       "      <th>multiMovieYn</th>\n",
       "      <th>repNationCd</th>\n",
       "    </tr>\n",
       "  </thead>\n",
       "  <tbody>\n",
       "    <tr>\n",
       "      <th>0</th>\n",
       "      <td>1001</td>\n",
       "      <td>Y</td>\n",
       "      <td>K</td>\n",
       "    </tr>\n",
       "    <tr>\n",
       "      <th>1</th>\n",
       "      <td>1002</td>\n",
       "      <td>Y</td>\n",
       "      <td>F</td>\n",
       "    </tr>\n",
       "    <tr>\n",
       "      <th>2</th>\n",
       "      <td>1003</td>\n",
       "      <td>N</td>\n",
       "      <td>F</td>\n",
       "    </tr>\n",
       "    <tr>\n",
       "      <th>3</th>\n",
       "      <td>1004</td>\n",
       "      <td>Y</td>\n",
       "      <td>K</td>\n",
       "    </tr>\n",
       "  </tbody>\n",
       "</table>\n",
       "</div>"
      ],
      "text/plain": [
       "  movieCd multiMovieYn repNationCd\n",
       "0    1001            Y           K\n",
       "1    1002            Y           F\n",
       "2    1003            N           F\n",
       "3    1004            Y           K"
      ]
     },
     "execution_count": 22,
     "metadata": {},
     "output_type": "execute_result"
    }
   ],
   "source": [
    "merged_df.drop(columns=[\"multiMovieYn_A\", \"multiMovieYn_B\", \"repNationCd_A\", \"repNationCd_B\"])"
   ]
  }
 ],
 "metadata": {
  "kernelspec": {
   "display_name": "Python 3 (ipykernel)",
   "language": "python",
   "name": "python3"
  },
  "language_info": {
   "codemirror_mode": {
    "name": "ipython",
    "version": 3
   },
   "file_extension": ".py",
   "mimetype": "text/x-python",
   "name": "python",
   "nbconvert_exporter": "python",
   "pygments_lexer": "ipython3",
   "version": "3.12.3"
  }
 },
 "nbformat": 4,
 "nbformat_minor": 5
}
