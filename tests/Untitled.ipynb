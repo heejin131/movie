{
 "cells": [
  {
   "cell_type": "code",
   "execution_count": 31,
   "id": "68b3f003-fa2e-4822-8d33-0ea9a510ba93",
   "metadata": {},
   "outputs": [],
   "source": [
    "import pandas as pd"
   ]
  },
  {
   "cell_type": "code",
   "execution_count": 33,
   "id": "72a513af-e0fe-40ba-b291-2f2695c9a255",
   "metadata": {},
   "outputs": [],
   "source": [
    "df_1 = pd.read_parquet(\"~/temp/movie/dt=20210101\")\n",
    "df_2 = pd.read_parquet(\"~/temp/movie\")"
   ]
  },
  {
   "cell_type": "code",
   "execution_count": 36,
   "id": "04e74de1-6a08-46a0-b636-977e8b1992bd",
   "metadata": {},
   "outputs": [
    {
     "data": {
      "text/html": [
       "<div>\n",
       "<style scoped>\n",
       "    .dataframe tbody tr th:only-of-type {\n",
       "        vertical-align: middle;\n",
       "    }\n",
       "\n",
       "    .dataframe tbody tr th {\n",
       "        vertical-align: top;\n",
       "    }\n",
       "\n",
       "    .dataframe thead th {\n",
       "        text-align: right;\n",
       "    }\n",
       "</style>\n",
       "<table border=\"1\" class=\"dataframe\">\n",
       "  <thead>\n",
       "    <tr style=\"text-align: right;\">\n",
       "      <th></th>\n",
       "      <th>rnum</th>\n",
       "      <th>rank</th>\n",
       "      <th>rankInten</th>\n",
       "      <th>rankOldAndNew</th>\n",
       "      <th>movieCd</th>\n",
       "      <th>movieNm</th>\n",
       "      <th>openDt</th>\n",
       "      <th>salesAmt</th>\n",
       "      <th>salesShare</th>\n",
       "      <th>salesInten</th>\n",
       "      <th>salesChange</th>\n",
       "      <th>salesAcc</th>\n",
       "      <th>audiCnt</th>\n",
       "      <th>audiInten</th>\n",
       "      <th>audiChange</th>\n",
       "      <th>audiAcc</th>\n",
       "      <th>scrnCnt</th>\n",
       "      <th>showCnt</th>\n",
       "    </tr>\n",
       "  </thead>\n",
       "  <tbody>\n",
       "    <tr>\n",
       "      <th>0</th>\n",
       "      <td>1</td>\n",
       "      <td>1</td>\n",
       "      <td>0</td>\n",
       "      <td>OLD</td>\n",
       "      <td>20192567</td>\n",
       "      <td>원더 우먼 1984</td>\n",
       "      <td>2020-12-23</td>\n",
       "      <td>274407080</td>\n",
       "      <td>51.4</td>\n",
       "      <td>41920830</td>\n",
       "      <td>18</td>\n",
       "      <td>3764838540</td>\n",
       "      <td>29884</td>\n",
       "      <td>2462</td>\n",
       "      <td>9</td>\n",
       "      <td>420870</td>\n",
       "      <td>1877</td>\n",
       "      <td>4329</td>\n",
       "    </tr>\n",
       "  </tbody>\n",
       "</table>\n",
       "</div>"
      ],
      "text/plain": [
       "  rnum rank rankInten rankOldAndNew   movieCd     movieNm      openDt  \\\n",
       "0    1    1         0           OLD  20192567  원더 우먼 1984  2020-12-23   \n",
       "\n",
       "    salesAmt salesShare salesInten salesChange    salesAcc audiCnt audiInten  \\\n",
       "0  274407080       51.4   41920830          18  3764838540   29884      2462   \n",
       "\n",
       "  audiChange audiAcc scrnCnt showCnt  \n",
       "0          9  420870    1877    4329  "
      ]
     },
     "execution_count": 36,
     "metadata": {},
     "output_type": "execute_result"
    }
   ],
   "source": [
    "df_1.head(1)"
   ]
  },
  {
   "cell_type": "code",
   "execution_count": 37,
   "id": "a6660c06-2762-4114-ac4c-ab2f3a73cea7",
   "metadata": {},
   "outputs": [
    {
     "data": {
      "text/html": [
       "<div>\n",
       "<style scoped>\n",
       "    .dataframe tbody tr th:only-of-type {\n",
       "        vertical-align: middle;\n",
       "    }\n",
       "\n",
       "    .dataframe tbody tr th {\n",
       "        vertical-align: top;\n",
       "    }\n",
       "\n",
       "    .dataframe thead th {\n",
       "        text-align: right;\n",
       "    }\n",
       "</style>\n",
       "<table border=\"1\" class=\"dataframe\">\n",
       "  <thead>\n",
       "    <tr style=\"text-align: right;\">\n",
       "      <th></th>\n",
       "      <th>rnum</th>\n",
       "      <th>rank</th>\n",
       "      <th>rankInten</th>\n",
       "      <th>rankOldAndNew</th>\n",
       "      <th>movieCd</th>\n",
       "      <th>movieNm</th>\n",
       "      <th>openDt</th>\n",
       "      <th>salesAmt</th>\n",
       "      <th>salesShare</th>\n",
       "      <th>salesInten</th>\n",
       "      <th>salesChange</th>\n",
       "      <th>salesAcc</th>\n",
       "      <th>audiCnt</th>\n",
       "      <th>audiInten</th>\n",
       "      <th>audiChange</th>\n",
       "      <th>audiAcc</th>\n",
       "      <th>scrnCnt</th>\n",
       "      <th>showCnt</th>\n",
       "      <th>dt</th>\n",
       "    </tr>\n",
       "  </thead>\n",
       "  <tbody>\n",
       "    <tr>\n",
       "      <th>0</th>\n",
       "      <td>1</td>\n",
       "      <td>1</td>\n",
       "      <td>0</td>\n",
       "      <td>OLD</td>\n",
       "      <td>20192567</td>\n",
       "      <td>원더 우먼 1984</td>\n",
       "      <td>2020-12-23</td>\n",
       "      <td>274407080</td>\n",
       "      <td>51.4</td>\n",
       "      <td>41920830</td>\n",
       "      <td>18</td>\n",
       "      <td>3764838540</td>\n",
       "      <td>29884</td>\n",
       "      <td>2462</td>\n",
       "      <td>9</td>\n",
       "      <td>420870</td>\n",
       "      <td>1877</td>\n",
       "      <td>4329</td>\n",
       "      <td>20210101</td>\n",
       "    </tr>\n",
       "  </tbody>\n",
       "</table>\n",
       "</div>"
      ],
      "text/plain": [
       "  rnum rank rankInten rankOldAndNew   movieCd     movieNm      openDt  \\\n",
       "0    1    1         0           OLD  20192567  원더 우먼 1984  2020-12-23   \n",
       "\n",
       "    salesAmt salesShare salesInten salesChange    salesAcc audiCnt audiInten  \\\n",
       "0  274407080       51.4   41920830          18  3764838540   29884      2462   \n",
       "\n",
       "  audiChange audiAcc scrnCnt showCnt        dt  \n",
       "0          9  420870    1877    4329  20210101  "
      ]
     },
     "execution_count": 37,
     "metadata": {},
     "output_type": "execute_result"
    }
   ],
   "source": [
    "df_2.head(1)"
   ]
  },
  {
   "cell_type": "code",
   "execution_count": 30,
   "id": "4458daf8-1130-403a-bee5-2dde5b224db2",
   "metadata": {},
   "outputs": [],
   "source": [
    "def test_save_df():\n",
    "    ymd = \"20210101\"\n",
    "    data = call_api(dt=ymd)\n",
    "    df = list2df(data, ymd)\n",
    "    base_path = \"~/temp/movie\"\n",
    "    r = save_df(df, base_path)\n",
    "    assert r == f\"{base_path}/dt={ymd}\"\n",
    "    print(\"save_path\", r)\n",
    "    read_df = pd.read_parquet(r)\n",
    "    assert 'dt' not in read_df.columns\n",
    "    assert 'dt' in pd.read_parquet(base_path).columns"
   ]
  }
 ],
 "metadata": {
  "kernelspec": {
   "display_name": "Python 3 (ipykernel)",
   "language": "python",
   "name": "python3"
  },
  "language_info": {
   "codemirror_mode": {
    "name": "ipython",
    "version": 3
   },
   "file_extension": ".py",
   "mimetype": "text/x-python",
   "name": "python",
   "nbconvert_exporter": "python",
   "pygments_lexer": "ipython3",
   "version": "3.12.3"
  }
 },
 "nbformat": 4,
 "nbformat_minor": 5
}
