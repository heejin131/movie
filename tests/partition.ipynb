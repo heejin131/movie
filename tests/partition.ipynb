{
 "cells": [
  {
   "cell_type": "code",
   "execution_count": 4,
   "id": "eb0a72a8-57f3-4e4d-8f76-34b30f86552b",
   "metadata": {},
   "outputs": [],
   "source": [
    "#tree -L 1\n",
    "#├── dt=20240101\n",
    "#├── dt=20240102\n",
    "#├── dt=20240103\n",
    "#└── dt=20240104\n",
    "\n",
    "BASE_PATH = '/home/gmlwls5168/data/movies/dailyboxoffice'\n",
    "\n",
    "import pandas as pd\n",
    "\n",
    "df = pd.read_parquet(BASE_PATH)"
   ]
  },
  {
   "cell_type": "code",
   "execution_count": 5,
   "id": "f3cdee26-6d98-4e6d-8fe0-8106553e1b45",
   "metadata": {},
   "outputs": [
    {
     "data": {
      "text/plain": [
       "Index(['rnum', 'rank', 'rankInten', 'rankOldAndNew', 'movieCd', 'movieNm',\n",
       "       'openDt', 'salesAmt', 'salesShare', 'salesInten', 'salesChange',\n",
       "       'salesAcc', 'audiCnt', 'audiInten', 'audiChange', 'audiAcc', 'scrnCnt',\n",
       "       'showCnt', 'dt', 'multiMovieYn', 'repNationCd'],\n",
       "      dtype='object')"
      ]
     },
     "execution_count": 5,
     "metadata": {},
     "output_type": "execute_result"
    }
   ],
   "source": [
    "df.columns"
   ]
  },
  {
   "cell_type": "code",
   "execution_count": 11,
   "id": "4a4e28ac-243d-4b6a-8ed3-7573dac195ed",
   "metadata": {},
   "outputs": [],
   "source": [
    "df.to_parquet(\"~/temp/t_p_1\", partition_cols=['dt', 'movieCd'])"
   ]
  }
 ],
 "metadata": {
  "kernelspec": {
   "display_name": "Python 3 (ipykernel)",
   "language": "python",
   "name": "python3"
  },
  "language_info": {
   "codemirror_mode": {
    "name": "ipython",
    "version": 3
   },
   "file_extension": ".py",
   "mimetype": "text/x-python",
   "name": "python",
   "nbconvert_exporter": "python",
   "pygments_lexer": "ipython3",
   "version": "3.12.3"
  }
 },
 "nbformat": 4,
 "nbformat_minor": 5
}
